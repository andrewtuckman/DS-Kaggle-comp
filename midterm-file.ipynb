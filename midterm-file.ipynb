{
 "cells": [
  {
   "cell_type": "markdown",
   "metadata": {},
   "source": [
    "# CS506 Midterm\n",
    "### Name: Andrew Tuckman\n",
    "### BUID: U40643751"
   ]
  },
  {
   "cell_type": "markdown",
   "metadata": {},
   "source": [
    "## Imports:"
   ]
  },
  {
   "cell_type": "code",
   "execution_count": 7,
   "metadata": {},
   "outputs": [],
   "source": [
    "import re                   # String processing\n",
    "import numpy as np\n",
    "import pandas as pd\n",
    "import seaborn as sns\n",
    "import matplotlib.pyplot as plt\n",
    "from sklearn.neighbors import KNeighborsClassifier\n",
    "from sklearn.model_selection import train_test_split\n",
    "from sklearn.metrics import mean_squared_error, confusion_matrix"
   ]
  },
  {
   "cell_type": "markdown",
   "metadata": {},
   "source": [
    "## Load files into DataFrames:"
   ]
  },
  {
   "cell_type": "code",
   "execution_count": 8,
   "metadata": {},
   "outputs": [],
   "source": [
    "train = pd.read_csv(\"./data/train.csv\")"
   ]
  },
  {
   "cell_type": "markdown",
   "metadata": {},
   "source": [
    "## Feature extraction:"
   ]
  },
  {
   "cell_type": "code",
   "execution_count": 9,
   "metadata": {},
   "outputs": [
    {
     "name": "stdout",
     "output_type": "stream",
     "text": [
      "         Score                                               Text\n",
      "0          4.0  This is a charming version of the classic Dick...\n",
      "1          3.0  It was good but not as emotionally moving as t...\n",
      "2          3.0  Don't get me wrong, Winkler is a wonderful cha...\n",
      "3          5.0  Henry Winkler is very good in this twist on th...\n",
      "4          4.0  This is one of the best Scrooge movies out.  H...\n",
      "...        ...                                                ...\n",
      "1697528    NaN  wow $269.99 for the entire series on Blu Ray??...\n",
      "1697529    5.0  Finally, the holy grail of tv-on-dvd boxsets i...\n",
      "1697530    5.0  Could this be a true or I'm i dreaming batman ...\n",
      "1697531    5.0  I've been a fan of the series since I was a yo...\n",
      "1697532    5.0  People seriously need to wake up and realize t...\n",
      "\n",
      "[1697533 rows x 2 columns]\n"
     ]
    }
   ],
   "source": [
    "train = train[['Score','Text']]\n",
    "print(train)"
   ]
  },
  {
   "cell_type": "markdown",
   "metadata": {},
   "source": [
    "## Drop null values:"
   ]
  },
  {
   "cell_type": "code",
   "execution_count": 10,
   "metadata": {},
   "outputs": [],
   "source": [
    "train = train.dropna()"
   ]
  },
  {
   "cell_type": "code",
   "execution_count": 11,
   "metadata": {},
   "outputs": [
    {
     "name": "stdout",
     "output_type": "stream",
     "text": [
      "         Score                                               Text\n",
      "0          4.0  This is a charming version of the classic Dick...\n",
      "1          3.0  It was good but not as emotionally moving as t...\n",
      "2          3.0  Don't get me wrong, Winkler is a wonderful cha...\n",
      "3          5.0  Henry Winkler is very good in this twist on th...\n",
      "4          4.0  This is one of the best Scrooge movies out.  H...\n",
      "...        ...                                                ...\n",
      "1697526    4.0  Looking very much forward to this release, but...\n",
      "1697529    5.0  Finally, the holy grail of tv-on-dvd boxsets i...\n",
      "1697530    5.0  Could this be a true or I'm i dreaming batman ...\n",
      "1697531    5.0  I've been a fan of the series since I was a yo...\n",
      "1697532    5.0  People seriously need to wake up and realize t...\n",
      "\n",
      "[1397480 rows x 2 columns]\n"
     ]
    }
   ],
   "source": [
    "print(train)"
   ]
  },
  {
   "cell_type": "markdown",
   "metadata": {},
   "source": [
    "## - Text Pre-processing -\n",
    "### Convert string sentences to list of string words, and remove characters:"
   ]
  },
  {
   "cell_type": "code",
   "execution_count": 12,
   "metadata": {},
   "outputs": [],
   "source": [
    "expr_pattern = re.compile(pattern = r'[^\\w\\s]+', flags = 0)\n",
    "train['Text'] = [expr_pattern.sub('', word) for word in train['Text'].tolist()]"
   ]
  },
  {
   "cell_type": "markdown",
   "metadata": {},
   "source": [
    "### Convert string words to lowercase:"
   ]
  },
  {
   "cell_type": "code",
   "execution_count": 13,
   "metadata": {},
   "outputs": [],
   "source": [
    "train['Text'] = train['Text'].str.lower().str.split()"
   ]
  },
  {
   "cell_type": "code",
   "execution_count": 14,
   "metadata": {},
   "outputs": [
    {
     "name": "stdout",
     "output_type": "stream",
     "text": [
      "         Score                                               Text\n",
      "0          4.0  [this, is, a, charming, version, of, the, clas...\n",
      "1          3.0  [it, was, good, but, not, as, emotionally, mov...\n",
      "2          3.0  [dont, get, me, wrong, winkler, is, a, wonderf...\n",
      "3          5.0  [henry, winkler, is, very, good, in, this, twi...\n",
      "4          4.0  [this, is, one, of, the, best, scrooge, movies...\n",
      "...        ...                                                ...\n",
      "1697526    4.0  [looking, very, much, forward, to, this, relea...\n",
      "1697529    5.0  [finally, the, holy, grail, of, tvondvd, boxse...\n",
      "1697530    5.0  [could, this, be, a, true, or, im, i, dreaming...\n",
      "1697531    5.0  [ive, been, a, fan, of, the, series, since, i,...\n",
      "1697532    5.0  [people, seriously, need, to, wake, up, and, r...\n",
      "\n",
      "[1397480 rows x 2 columns]\n"
     ]
    }
   ],
   "source": [
    "print(train)"
   ]
  },
  {
   "cell_type": "markdown",
   "metadata": {},
   "source": [
    "### Remove stop words:"
   ]
  },
  {
   "cell_type": "code",
   "execution_count": 15,
   "metadata": {},
   "outputs": [],
   "source": [
    "stopwords_list = ['i', \"i've\", \"ive\" 'me', 'my', 'myself', 'we', 'our', 'ours', 'ourselves', 'you', \"you're\", \"youre\", \"you've\", \"youve\", \"you'll\", \"you'd\", \"youll\", \"youd\", 'your', 'yours', 'yourself', \n",
    "'yourselves', 'he', 'him', 'his', 'himself', 'she', \"she's\", \"shes\", 'her', 'hers', 'herself', 'it', \"it's\", 'its', 'itself', 'they', 'them', 'their', 'theirs', \n",
    "'themselves', 'what', 'which', 'who', 'whom', 'this', 'that', \"that'll\", \"thatll\", 'these', 'those', 'am', 'is', 'are', 'was', 'were', 'be', 'been', 'being', 'have', \n",
    "'has', 'had', 'having', 'do', 'does', 'did', 'doing', 'a', 'an', 'the', 'and', 'but', 'if', 'or', 'because', 'as', 'until', 'while', 'of', 'at', 'by', 'for', \n",
    "'with', 'about', 'against', 'between', 'into', 'through', 'during', 'before', 'after', 'above', 'below', 'to', 'from', 'up', 'down', 'in', 'out', 'on', 'off', \n",
    "'over', 'under', 'again', 'further', 'then', 'once', 'here', 'there', 'when', 'where', 'why', 'how', 'all', 'any', 'both', 'each', 'few', 'more', 'most', 'other', \n",
    "'some', 'such', 'no', 'nor', 'not', 'only', 'own', 'same', 'so', 'than', 'too', 'very', 's', 't', 'can', 'will', 'just', 'don', \"don't\", \"dont\", 'should', \"should've\", \"shouldve\",\n",
    "'now', 'd', 'll', 'm', 'o', 're', 've', 'y', 'ain', 'aren', \"aren't\", \"arent\", 'couldn', \"couldn't\", \"couldnt\", 'didn', \"didn't\", \"didnt\", 'doesn', \"doesn't\", \"doesnt\", 'hadn', \"hadn't\", \"hadnt\", 'hasn', \n",
    "\"hasn't\", \"hasnt\", 'haven', \"haven't\", \"havent\", 'isn', \"isn't\", \"isnt\", 'ma', 'mightn', \"mightn't\", \"mightnt\", 'mustn', \"mustn't\", \"mustnt\", 'needn', \"needn't\", \"neednt\", 'shan', \"shan't\", \"shant\", 'shouldn', \"shouldn't\", \"shouldnt\", \n",
    "'wasn', \"wasn't\", \"wasnt\", 'weren', \"weren't\", \"werent\", 'won', \"won't\", \"wont\", 'wouldn', \"wouldn't\", \"wouldnt\"]"
   ]
  },
  {
   "cell_type": "code",
   "execution_count": 16,
   "metadata": {},
   "outputs": [],
   "source": [
    "train['Text'] = train['Text'].apply(lambda review: [word for word in review if word not in stopwords_list])"
   ]
  },
  {
   "cell_type": "code",
   "execution_count": 17,
   "metadata": {},
   "outputs": [
    {
     "name": "stdout",
     "output_type": "stream",
     "text": [
      "         Score                                               Text\n",
      "0          4.0  [charming, version, classic, dickens, tale, he...\n",
      "1          3.0  [good, emotionally, moving, christmas, carol, ...\n",
      "2          3.0  [get, wrong, winkler, wonderful, character, ac...\n",
      "3          5.0  [henry, winkler, good, twist, classic, story, ...\n",
      "4          4.0  [one, best, scrooge, movies, henry, winkler, o...\n",
      "...        ...                                                ...\n",
      "1697526    4.0  [looking, much, forward, release, price, bit, ...\n",
      "1697529    5.0  [finally, holy, grail, tvondvd, boxsets, comin...\n",
      "1697530    5.0  [could, true, im, dreaming, batman, favorite, ...\n",
      "1697531    5.0  [ive, fan, series, since, young, boy, personal...\n",
      "1697532    5.0  [people, seriously, need, wake, realize, cant,...\n",
      "\n",
      "[1397480 rows x 2 columns]\n"
     ]
    }
   ],
   "source": [
    "print(train)"
   ]
  },
  {
   "cell_type": "markdown",
   "metadata": {},
   "source": [
    "### Convert list back into string:"
   ]
  },
  {
   "cell_type": "code",
   "execution_count": 20,
   "metadata": {},
   "outputs": [],
   "source": [
    "train['Text'] = train['Text'].apply(', '.join)\n",
    "p1 = re.compile(r'[^\\w\\s]+')\n",
    "train['Text'] = [p1.sub('', x) for x in train['Text'].tolist()]\n",
    "train['Text'] = train['Text'].str.lower()"
   ]
  },
  {
   "cell_type": "code",
   "execution_count": 21,
   "metadata": {},
   "outputs": [
    {
     "name": "stdout",
     "output_type": "stream",
     "text": [
      "         Score                                               Text\n",
      "0          4.0  charming version classic dickens tale henry wi...\n",
      "1          3.0  good emotionally moving christmas carol dicken...\n",
      "2          3.0  get wrong winkler wonderful character actor wo...\n",
      "3          5.0  henry winkler good twist classic story convent...\n",
      "4          4.0  one best scrooge movies henry winkler outdoes ...\n",
      "...        ...                                                ...\n",
      "1697526    4.0  looking much forward release price bit outrage...\n",
      "1697529    5.0  finally holy grail tvondvd boxsets coming blur...\n",
      "1697530    5.0  could true im dreaming batman favorite comic b...\n",
      "1697531    5.0  ive fan series since young boy personaly consi...\n",
      "1697532    5.0  people seriously need wake realize cant get bl...\n",
      "\n",
      "[1397480 rows x 2 columns]\n"
     ]
    }
   ],
   "source": [
    "print(train)"
   ]
  },
  {
   "cell_type": "code",
   "execution_count": 22,
   "metadata": {},
   "outputs": [],
   "source": [
    "X_train = train['Text']\n",
    "y_train = train['Score']"
   ]
  },
  {
   "cell_type": "code",
   "execution_count": 24,
   "metadata": {},
   "outputs": [
    {
     "data": {
      "text/plain": [
       "0    4.0\n",
       "1    3.0\n",
       "2    3.0\n",
       "3    5.0\n",
       "4    4.0\n",
       "Name: Score, dtype: float64"
      ]
     },
     "execution_count": 24,
     "metadata": {},
     "output_type": "execute_result"
    }
   ],
   "source": []
  },
  {
   "cell_type": "code",
   "execution_count": null,
   "metadata": {},
   "outputs": [],
   "source": [
    "# test = pd.read_csv(\"./data/test.csv\")\n",
    "# sample = pd.read_csv(\"./data/sample.csv\")"
   ]
  }
 ],
 "metadata": {
  "interpreter": {
   "hash": "40d3a090f54c6569ab1632332b64b2c03c39dcf918b08424e98f38b5ae0af88f"
  },
  "kernelspec": {
   "display_name": "Python 3.7.4 64-bit ('base': conda)",
   "name": "python3"
  },
  "language_info": {
   "codemirror_mode": {
    "name": "ipython",
    "version": 3
   },
   "file_extension": ".py",
   "mimetype": "text/x-python",
   "name": "python",
   "nbconvert_exporter": "python",
   "pygments_lexer": "ipython3",
   "version": "3.7.4"
  },
  "orig_nbformat": 4
 },
 "nbformat": 4,
 "nbformat_minor": 2
}
